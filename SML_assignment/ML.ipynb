{
 "cells": [
  {
   "cell_type": "markdown",
   "id": "13142e1f-2779-474b-b6b0-0869568d0676",
   "metadata": {},
   "source": [
    "# Q1) What are the types of Applications?"
   ]
  },
  {
   "cell_type": "markdown",
   "id": "ea1873b3-5f2f-4f09-a179-ed4f992eed48",
   "metadata": {},
   "source": [
    "\n",
    "-->Key applications of Python:\n",
    "\n",
    "*Web Development: Building dynamic and interactive websites using frameworks like Django and Flask.\n",
    "\n",
    "*Data Science and Machine Learning: Analyzing large datasets, creating predictive models, and performing complex statistical calculations using libraries like NumPy, Pandas, and Scikit-learn.\n",
    "\n",
    "*Automation Scripting: Automating repetitive tasks like file manipulation, data extraction, and system administration through simple scripts.\n",
    "\n",
    "*Scientific Computing: Solving complex mathematical problems and data visualization with libraries like SciPy and Matplotlib.\n",
    "\n",
    "*Game Development: Creating simple to complex games using libraries like Pygame.\n",
    "\n",
    "*Image Processing: Manipulating and analyzing images using libraries like OpenCV\n",
    "\n",
    "*Desktop GUI Applications: Building graphical user interfaces for desktop applications using libraries like Tkinter.\n",
    "\n",
    "*Education: Beginner-friendly syntax makes Python ideal for teaching programming concepts.\n",
    "\n"
   ]
  },
  {
   "cell_type": "markdown",
   "id": "20fe9fc5-86d3-438e-b960-118f04e0e8e4",
   "metadata": {},
   "source": [
    "# Q2) What is programing?"
   ]
  },
  {
   "cell_type": "markdown",
   "id": "870f3a64-54ca-40b3-a16a-dd50a4508d5e",
   "metadata": {},
   "source": [
    "-->Programming is the process of writing instructions for a computer to follow, or code, in order to solve problems. It is a collaboration between humans and computers.\n",
    "\n"
   ]
  },
  {
   "cell_type": "markdown",
   "id": "f6fcd92d-8aa2-4b94-a9d8-09a5935db98f",
   "metadata": {},
   "source": [
    "# Q3) What is Python?"
   ]
  },
  {
   "cell_type": "markdown",
   "id": "c9e053aa-1e71-4c65-b37b-72c32c40bfb3",
   "metadata": {},
   "source": [
    "-->Python is a high level programming language that can be used for many tasks, including web development, data analysis, and software testing"
   ]
  }
 ],
 "metadata": {
  "kernelspec": {
   "display_name": "Python 3 (ipykernel)",
   "language": "python",
   "name": "python3"
  },
  "language_info": {
   "codemirror_mode": {
    "name": "ipython",
    "version": 3
   },
   "file_extension": ".py",
   "mimetype": "text/x-python",
   "name": "python",
   "nbconvert_exporter": "python",
   "pygments_lexer": "ipython3",
   "version": "3.12.7"
  }
 },
 "nbformat": 4,
 "nbformat_minor": 5
}
